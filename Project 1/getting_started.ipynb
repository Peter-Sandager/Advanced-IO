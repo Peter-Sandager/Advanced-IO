{
 "cells": [
  {
   "cell_type": "markdown",
   "metadata": {},
   "source": [
    "# Cars: Getting Started"
   ]
  },
  {
   "cell_type": "code",
   "execution_count": 1,
   "metadata": {},
   "outputs": [
    {
     "data": {
      "text/plain": [
       "'1.1.0'"
      ]
     },
     "execution_count": 1,
     "metadata": {},
     "output_type": "execute_result"
    }
   ],
   "source": [
    "import numpy as np \n",
    "import pandas as pd \n",
    "import seaborn as sns \n",
    "import pyblp\n",
    "sns.set_theme()\n",
    "\n",
    "pyblp.options.digits = 2\n",
    "pyblp.options.verbose = False\n",
    "pyblp.__version__"
   ]
  },
  {
   "cell_type": "markdown",
   "metadata": {},
   "source": [
    "# Read in data\n",
    "\n",
    "The dataset, `cars.csv`, contains cleaned and processed data. If you want to make changes, the notebook, `materialize.ipynb`, creates the data from the raw source datsets. "
   ]
  },
  {
   "cell_type": "code",
   "execution_count": 2,
   "metadata": {},
   "outputs": [],
   "source": [
    "cars = pd.read_csv('cars.csv') # this reads the *balanced* dataset (i.e. J = 40 products per market always)\n",
    "# cars = pd.read_excel('cars.xlsx') # this reads the *unbalanced* dataset (i.e. J varies over time)"
   ]
  },
  {
   "cell_type": "code",
   "execution_count": 3,
   "metadata": {},
   "outputs": [],
   "source": [
    "lbl_vars = pd.read_csv('labels_variables.csv', index_col=0)\n",
    "lbl_vals = pd.read_stata('cars.dta', iterator=True).value_labels() # the values that variables take (not relevant for all )"
   ]
  },
  {
   "cell_type": "markdown",
   "metadata": {},
   "source": [
    "## Overview of the dataset"
   ]
  },
  {
   "cell_type": "code",
   "execution_count": 4,
   "metadata": {},
   "outputs": [
    {
     "data": {
      "text/html": [
       "<div>\n",
       "<style scoped>\n",
       "    .dataframe tbody tr th:only-of-type {\n",
       "        vertical-align: middle;\n",
       "    }\n",
       "\n",
       "    .dataframe tbody tr th {\n",
       "        vertical-align: top;\n",
       "    }\n",
       "\n",
       "    .dataframe thead th {\n",
       "        text-align: right;\n",
       "    }\n",
       "</style>\n",
       "<table border=\"1\" class=\"dataframe\">\n",
       "  <thead>\n",
       "    <tr style=\"text-align: right;\">\n",
       "      <th></th>\n",
       "      <th>Mean</th>\n",
       "      <th>label</th>\n",
       "    </tr>\n",
       "  </thead>\n",
       "  <tbody>\n",
       "    <tr>\n",
       "      <th>ye</th>\n",
       "      <td>84.50</td>\n",
       "      <td>year (=first dimension of panel)</td>\n",
       "    </tr>\n",
       "    <tr>\n",
       "      <th>ma</th>\n",
       "      <td>3.00</td>\n",
       "      <td>market (=second dimension of panel)</td>\n",
       "    </tr>\n",
       "    <tr>\n",
       "      <th>co</th>\n",
       "      <td>207.50</td>\n",
       "      <td>model code (=third dimension of panel)</td>\n",
       "    </tr>\n",
       "    <tr>\n",
       "      <th>zcode</th>\n",
       "      <td>177.76</td>\n",
       "      <td>alternative model code (predecessors and successors get same number)</td>\n",
       "    </tr>\n",
       "    <tr>\n",
       "      <th>brd</th>\n",
       "      <td>16.79</td>\n",
       "      <td>brand code</td>\n",
       "    </tr>\n",
       "    <tr>\n",
       "      <th>org</th>\n",
       "      <td>2.72</td>\n",
       "      <td>origin code (demand side, country with which consumers associate model)</td>\n",
       "    </tr>\n",
       "    <tr>\n",
       "      <th>loc</th>\n",
       "      <td>5.17</td>\n",
       "      <td>location code (production side, country where producer produce model)</td>\n",
       "    </tr>\n",
       "    <tr>\n",
       "      <th>cla</th>\n",
       "      <td>2.30</td>\n",
       "      <td>class or segment code</td>\n",
       "    </tr>\n",
       "    <tr>\n",
       "      <th>home</th>\n",
       "      <td>0.32</td>\n",
       "      <td>domestic car dummy (appropriate interaction of org and ma)</td>\n",
       "    </tr>\n",
       "    <tr>\n",
       "      <th>frm</th>\n",
       "      <td>14.50</td>\n",
       "      <td>firm code</td>\n",
       "    </tr>\n",
       "    <tr>\n",
       "      <th>qu</th>\n",
       "      <td>35606.68</td>\n",
       "      <td>sales (number of new car registrations)</td>\n",
       "    </tr>\n",
       "    <tr>\n",
       "      <th>cy</th>\n",
       "      <td>1337.09</td>\n",
       "      <td>cylinder volume or displacement (in cc)</td>\n",
       "    </tr>\n",
       "    <tr>\n",
       "      <th>hp</th>\n",
       "      <td>50.10</td>\n",
       "      <td>horsepower (in kW)</td>\n",
       "    </tr>\n",
       "    <tr>\n",
       "      <th>we</th>\n",
       "      <td>934.49</td>\n",
       "      <td>weight (in kg)</td>\n",
       "    </tr>\n",
       "    <tr>\n",
       "      <th>pl</th>\n",
       "      <td>4.88</td>\n",
       "      <td>places (number, not reliable variable)</td>\n",
       "    </tr>\n",
       "    <tr>\n",
       "      <th>do</th>\n",
       "      <td>3.55</td>\n",
       "      <td>doors (number, not reliable variable)</td>\n",
       "    </tr>\n",
       "    <tr>\n",
       "      <th>le</th>\n",
       "      <td>409.24</td>\n",
       "      <td>length (in cm)</td>\n",
       "    </tr>\n",
       "    <tr>\n",
       "      <th>wi</th>\n",
       "      <td>163.44</td>\n",
       "      <td>width (in cm)</td>\n",
       "    </tr>\n",
       "    <tr>\n",
       "      <th>he</th>\n",
       "      <td>140.46</td>\n",
       "      <td>height (in cm)</td>\n",
       "    </tr>\n",
       "    <tr>\n",
       "      <th>li1</th>\n",
       "      <td>6.59</td>\n",
       "      <td>measure 1 for fuel efficiency (liter per km, at 90 km/h)</td>\n",
       "    </tr>\n",
       "    <tr>\n",
       "      <th>li2</th>\n",
       "      <td>8.11</td>\n",
       "      <td>measure 2 for fuel efficiency (liter per km, at 120 km/h)</td>\n",
       "    </tr>\n",
       "    <tr>\n",
       "      <th>li3</th>\n",
       "      <td>8.92</td>\n",
       "      <td>measure 3 for fuel efficiency (liter per km, at city speed)</td>\n",
       "    </tr>\n",
       "    <tr>\n",
       "      <th>li</th>\n",
       "      <td>7.87</td>\n",
       "      <td>average of li1, li2, li3 (used in papers)</td>\n",
       "    </tr>\n",
       "    <tr>\n",
       "      <th>sp</th>\n",
       "      <td>154.22</td>\n",
       "      <td>maximum speed (km/hour)</td>\n",
       "    </tr>\n",
       "    <tr>\n",
       "      <th>ac</th>\n",
       "      <td>16.27</td>\n",
       "      <td>time to acceleration (in seconds from 0 to 100 km/h, some from 0 to 96 km/h)</td>\n",
       "    </tr>\n",
       "    <tr>\n",
       "      <th>pr</th>\n",
       "      <td>2608988.58</td>\n",
       "      <td>price (in destination currency including V.A.T.)</td>\n",
       "    </tr>\n",
       "    <tr>\n",
       "      <th>princ</th>\n",
       "      <td>0.76</td>\n",
       "      <td>=pr/(ngdp/pop): price relative to per capita income (often used in demand model)</td>\n",
       "    </tr>\n",
       "    <tr>\n",
       "      <th>eurpr</th>\n",
       "      <td>7256.92</td>\n",
       "      <td>=pr/avdexr: price in common currency (in SDR times 1.2956 to interpret in Euros)</td>\n",
       "    </tr>\n",
       "    <tr>\n",
       "      <th>exppr</th>\n",
       "      <td>600384.65</td>\n",
       "      <td>=pr/avexr: price in exporter currency</td>\n",
       "    </tr>\n",
       "    <tr>\n",
       "      <th>avexr</th>\n",
       "      <td>229.30</td>\n",
       "      <td>av. exchange rate of exporter country (exporter 'loc' currency per SDR)</td>\n",
       "    </tr>\n",
       "    <tr>\n",
       "      <th>avdexr</th>\n",
       "      <td>319.91</td>\n",
       "      <td>av. exchange rate of destination country (destination 'ma' currency per SDR)</td>\n",
       "    </tr>\n",
       "    <tr>\n",
       "      <th>avcpr</th>\n",
       "      <td>492.53</td>\n",
       "      <td>av. consumer price index of exporter country</td>\n",
       "    </tr>\n",
       "    <tr>\n",
       "      <th>avppr</th>\n",
       "      <td>671.77</td>\n",
       "      <td>av. producer price index of exporter country</td>\n",
       "    </tr>\n",
       "    <tr>\n",
       "      <th>avdcpr</th>\n",
       "      <td>77.02</td>\n",
       "      <td>av. consumer price index of destination country</td>\n",
       "    </tr>\n",
       "    <tr>\n",
       "      <th>avdppr</th>\n",
       "      <td>87.69</td>\n",
       "      <td>av. producer price index of destination country</td>\n",
       "    </tr>\n",
       "    <tr>\n",
       "      <th>xexr</th>\n",
       "      <td>66.32</td>\n",
       "      <td>avdexr/avexr</td>\n",
       "    </tr>\n",
       "    <tr>\n",
       "      <th>tax</th>\n",
       "      <td>0.21</td>\n",
       "      <td>percentage VAT</td>\n",
       "    </tr>\n",
       "    <tr>\n",
       "      <th>pop</th>\n",
       "      <td>49183800.00</td>\n",
       "      <td>population</td>\n",
       "    </tr>\n",
       "    <tr>\n",
       "      <th>ngdp</th>\n",
       "      <td>178667304825541.97</td>\n",
       "      <td>nominal gross domestic product of destination country (destination currency)</td>\n",
       "    </tr>\n",
       "    <tr>\n",
       "      <th>rgdp</th>\n",
       "      <td>216716720230172.44</td>\n",
       "      <td>real gross domestic product</td>\n",
       "    </tr>\n",
       "    <tr>\n",
       "      <th>engdp</th>\n",
       "      <td>504371708122.45</td>\n",
       "      <td>=ngdp/avdexr: nominal gdp in common currency (SDR)</td>\n",
       "    </tr>\n",
       "    <tr>\n",
       "      <th>ergdp</th>\n",
       "      <td>659002565347.56</td>\n",
       "      <td>=rgdp/avexr</td>\n",
       "    </tr>\n",
       "    <tr>\n",
       "      <th>engdpc</th>\n",
       "      <td>10015.84</td>\n",
       "      <td>=engdp/pop: nominal gdp per capita in common currency</td>\n",
       "    </tr>\n",
       "    <tr>\n",
       "      <th>ergdpc</th>\n",
       "      <td>13264.84</td>\n",
       "      <td>=ergdp/pop</td>\n",
       "    </tr>\n",
       "    <tr>\n",
       "      <th>inc</th>\n",
       "      <td>26829.74</td>\n",
       "      <td>avg. income per capita</td>\n",
       "    </tr>\n",
       "  </tbody>\n",
       "</table>\n",
       "</div>"
      ],
      "text/plain": [
       "                      Mean  \\\n",
       "ye                   84.50   \n",
       "ma                    3.00   \n",
       "co                  207.50   \n",
       "zcode               177.76   \n",
       "brd                  16.79   \n",
       "org                   2.72   \n",
       "loc                   5.17   \n",
       "cla                   2.30   \n",
       "home                  0.32   \n",
       "frm                  14.50   \n",
       "qu                35606.68   \n",
       "cy                 1337.09   \n",
       "hp                   50.10   \n",
       "we                  934.49   \n",
       "pl                    4.88   \n",
       "do                    3.55   \n",
       "le                  409.24   \n",
       "wi                  163.44   \n",
       "he                  140.46   \n",
       "li1                   6.59   \n",
       "li2                   8.11   \n",
       "li3                   8.92   \n",
       "li                    7.87   \n",
       "sp                  154.22   \n",
       "ac                   16.27   \n",
       "pr              2608988.58   \n",
       "princ                 0.76   \n",
       "eurpr              7256.92   \n",
       "exppr            600384.65   \n",
       "avexr               229.30   \n",
       "avdexr              319.91   \n",
       "avcpr               492.53   \n",
       "avppr               671.77   \n",
       "avdcpr               77.02   \n",
       "avdppr               87.69   \n",
       "xexr                 66.32   \n",
       "tax                   0.21   \n",
       "pop            49183800.00   \n",
       "ngdp    178667304825541.97   \n",
       "rgdp    216716720230172.44   \n",
       "engdp      504371708122.45   \n",
       "ergdp      659002565347.56   \n",
       "engdpc            10015.84   \n",
       "ergdpc            13264.84   \n",
       "inc               26829.74   \n",
       "\n",
       "                                                                                   label  \n",
       "ye                                                      year (=first dimension of panel)  \n",
       "ma                                                   market (=second dimension of panel)  \n",
       "co                                                model code (=third dimension of panel)  \n",
       "zcode               alternative model code (predecessors and successors get same number)  \n",
       "brd                                                                           brand code  \n",
       "org              origin code (demand side, country with which consumers associate model)  \n",
       "loc                location code (production side, country where producer produce model)  \n",
       "cla                                                                class or segment code  \n",
       "home                          domestic car dummy (appropriate interaction of org and ma)  \n",
       "frm                                                                            firm code  \n",
       "qu                                               sales (number of new car registrations)  \n",
       "cy                                               cylinder volume or displacement (in cc)  \n",
       "hp                                                                    horsepower (in kW)  \n",
       "we                                                                        weight (in kg)  \n",
       "pl                                                places (number, not reliable variable)  \n",
       "do                                                 doors (number, not reliable variable)  \n",
       "le                                                                        length (in cm)  \n",
       "wi                                                                         width (in cm)  \n",
       "he                                                                        height (in cm)  \n",
       "li1                             measure 1 for fuel efficiency (liter per km, at 90 km/h)  \n",
       "li2                            measure 2 for fuel efficiency (liter per km, at 120 km/h)  \n",
       "li3                          measure 3 for fuel efficiency (liter per km, at city speed)  \n",
       "li                                             average of li1, li2, li3 (used in papers)  \n",
       "sp                                                               maximum speed (km/hour)  \n",
       "ac          time to acceleration (in seconds from 0 to 100 km/h, some from 0 to 96 km/h)  \n",
       "pr                                      price (in destination currency including V.A.T.)  \n",
       "princ   =pr/(ngdp/pop): price relative to per capita income (often used in demand model)  \n",
       "eurpr   =pr/avdexr: price in common currency (in SDR times 1.2956 to interpret in Euros)  \n",
       "exppr                                              =pr/avexr: price in exporter currency  \n",
       "avexr            av. exchange rate of exporter country (exporter 'loc' currency per SDR)  \n",
       "avdexr      av. exchange rate of destination country (destination 'ma' currency per SDR)  \n",
       "avcpr                                       av. consumer price index of exporter country  \n",
       "avppr                                       av. producer price index of exporter country  \n",
       "avdcpr                                   av. consumer price index of destination country  \n",
       "avdppr                                   av. producer price index of destination country  \n",
       "xexr                                                                        avdexr/avexr  \n",
       "tax                                                                       percentage VAT  \n",
       "pop                                                                           population  \n",
       "ngdp        nominal gross domestic product of destination country (destination currency)  \n",
       "rgdp                                                         real gross domestic product  \n",
       "engdp                                 =ngdp/avdexr: nominal gdp in common currency (SDR)  \n",
       "ergdp                                                                        =rgdp/avexr  \n",
       "engdpc                             =engdp/pop: nominal gdp per capita in common currency  \n",
       "ergdpc                                                                        =ergdp/pop  \n",
       "inc                                                               avg. income per capita  "
      ]
     },
     "execution_count": 4,
     "metadata": {},
     "output_type": "execute_result"
    }
   ],
   "source": [
    "pd.set_option('display.max_colwidth', None)\n",
    "tab = cars.mean(numeric_only=True).apply(lambda x: f'{x:.2f}').to_frame('Mean').join(lbl_vars)\n",
    "tab"
   ]
  },
  {
   "cell_type": "markdown",
   "metadata": {},
   "source": [
    "# Set up for analysis"
   ]
  },
  {
   "cell_type": "markdown",
   "metadata": {},
   "source": [
    "## Price variables \n",
    "\n",
    "Can be either price (`pr`), price-to-income (`princ`), or log price (`logp`, created below)."
   ]
  },
  {
   "cell_type": "code",
   "execution_count": 5,
   "metadata": {},
   "outputs": [],
   "source": [
    "price_var = 'eurpr'"
   ]
  },
  {
   "cell_type": "code",
   "execution_count": 6,
   "metadata": {},
   "outputs": [],
   "source": [
    "cars['logp'] = np.log(cars[price_var])"
   ]
  },
  {
   "cell_type": "markdown",
   "metadata": {},
   "source": [
    "## Market share\n",
    "\n",
    "**Todo:** Decide how to measure the market size and thereby the market share. *Note:* Below is just an example that sets the market size = population / 3. "
   ]
  },
  {
   "cell_type": "code",
   "execution_count": 7,
   "metadata": {},
   "outputs": [],
   "source": [
    "# total quantity of cars sold in market-year (ma, ye)\n",
    "cars['qu_tot'] = cars.groupby(['ma', 'ye'])['qu'].transform('sum')\n",
    "cars['market_size'] = cars['pop'] / 3 # TODO: Choose your own market size measure\n",
    "cars['s'] = cars['qu'] / cars['market_size']"
   ]
  },
  {
   "cell_type": "code",
   "execution_count": 8,
   "metadata": {},
   "outputs": [
    {
     "name": "stdout",
     "output_type": "stream",
     "text": [
      "Outside share is from 88.0% to 95.4%\n"
     ]
    }
   ],
   "source": [
    "# compute the share of the outside good (will be useful for the demand inversion)\n",
    "cars['s0'] = 1.0 - cars.groupby(['ma', 'ye'])['s'].transform('sum')\n",
    "print(f'Outside share is from {cars.s0.min():.1%} to {cars.s0.max():.1%}')"
   ]
  },
  {
   "cell_type": "code",
   "execution_count": 9,
   "metadata": {},
   "outputs": [
    {
     "data": {
      "text/html": [
       "<style type=\"text/css\">\n",
       "</style>\n",
       "<table id=\"T_f55c8\">\n",
       "  <thead>\n",
       "    <tr>\n",
       "      <th class=\"blank level0\" >&nbsp;</th>\n",
       "      <th id=\"T_f55c8_level0_col0\" class=\"col_heading level0 col0\" >count</th>\n",
       "      <th id=\"T_f55c8_level0_col1\" class=\"col_heading level0 col1\" >mean</th>\n",
       "      <th id=\"T_f55c8_level0_col2\" class=\"col_heading level0 col2\" >std</th>\n",
       "      <th id=\"T_f55c8_level0_col3\" class=\"col_heading level0 col3\" >min</th>\n",
       "      <th id=\"T_f55c8_level0_col4\" class=\"col_heading level0 col4\" >25%</th>\n",
       "      <th id=\"T_f55c8_level0_col5\" class=\"col_heading level0 col5\" >50%</th>\n",
       "      <th id=\"T_f55c8_level0_col6\" class=\"col_heading level0 col6\" >75%</th>\n",
       "      <th id=\"T_f55c8_level0_col7\" class=\"col_heading level0 col7\" >max</th>\n",
       "    </tr>\n",
       "    <tr>\n",
       "      <th class=\"index_name level0\" >ma</th>\n",
       "      <th class=\"blank col0\" >&nbsp;</th>\n",
       "      <th class=\"blank col1\" >&nbsp;</th>\n",
       "      <th class=\"blank col2\" >&nbsp;</th>\n",
       "      <th class=\"blank col3\" >&nbsp;</th>\n",
       "      <th class=\"blank col4\" >&nbsp;</th>\n",
       "      <th class=\"blank col5\" >&nbsp;</th>\n",
       "      <th class=\"blank col6\" >&nbsp;</th>\n",
       "      <th class=\"blank col7\" >&nbsp;</th>\n",
       "    </tr>\n",
       "  </thead>\n",
       "  <tbody>\n",
       "    <tr>\n",
       "      <th id=\"T_f55c8_level0_row0\" class=\"row_heading level0 row0\" >Belgium</th>\n",
       "      <td id=\"T_f55c8_row0_col0\" class=\"data row0 col0\" >1200.000</td>\n",
       "      <td id=\"T_f55c8_row0_col1\" class=\"data row0 col1\" >0.002</td>\n",
       "      <td id=\"T_f55c8_row0_col2\" class=\"data row0 col2\" >0.001</td>\n",
       "      <td id=\"T_f55c8_row0_col3\" class=\"data row0 col3\" >0.000</td>\n",
       "      <td id=\"T_f55c8_row0_col4\" class=\"data row0 col4\" >0.001</td>\n",
       "      <td id=\"T_f55c8_row0_col5\" class=\"data row0 col5\" >0.002</td>\n",
       "      <td id=\"T_f55c8_row0_col6\" class=\"data row0 col6\" >0.003</td>\n",
       "      <td id=\"T_f55c8_row0_col7\" class=\"data row0 col7\" >0.019</td>\n",
       "    </tr>\n",
       "    <tr>\n",
       "      <th id=\"T_f55c8_level0_row1\" class=\"row_heading level0 row1\" >France</th>\n",
       "      <td id=\"T_f55c8_row1_col0\" class=\"data row1 col0\" >1200.000</td>\n",
       "      <td id=\"T_f55c8_row1_col1\" class=\"data row1 col1\" >0.002</td>\n",
       "      <td id=\"T_f55c8_row1_col2\" class=\"data row1 col2\" >0.002</td>\n",
       "      <td id=\"T_f55c8_row1_col3\" class=\"data row1 col3\" >0.000</td>\n",
       "      <td id=\"T_f55c8_row1_col4\" class=\"data row1 col4\" >0.001</td>\n",
       "      <td id=\"T_f55c8_row1_col5\" class=\"data row1 col5\" >0.001</td>\n",
       "      <td id=\"T_f55c8_row1_col6\" class=\"data row1 col6\" >0.003</td>\n",
       "      <td id=\"T_f55c8_row1_col7\" class=\"data row1 col7\" >0.017</td>\n",
       "    </tr>\n",
       "    <tr>\n",
       "      <th id=\"T_f55c8_level0_row2\" class=\"row_heading level0 row2\" >Germany</th>\n",
       "      <td id=\"T_f55c8_row2_col0\" class=\"data row2 col0\" >1200.000</td>\n",
       "      <td id=\"T_f55c8_row2_col1\" class=\"data row2 col1\" >0.002</td>\n",
       "      <td id=\"T_f55c8_row2_col2\" class=\"data row2 col2\" >0.003</td>\n",
       "      <td id=\"T_f55c8_row2_col3\" class=\"data row2 col3\" >0.000</td>\n",
       "      <td id=\"T_f55c8_row2_col4\" class=\"data row2 col4\" >0.001</td>\n",
       "      <td id=\"T_f55c8_row2_col5\" class=\"data row2 col5\" >0.001</td>\n",
       "      <td id=\"T_f55c8_row2_col6\" class=\"data row2 col6\" >0.003</td>\n",
       "      <td id=\"T_f55c8_row2_col7\" class=\"data row2 col7\" >0.019</td>\n",
       "    </tr>\n",
       "    <tr>\n",
       "      <th id=\"T_f55c8_level0_row3\" class=\"row_heading level0 row3\" >Italy</th>\n",
       "      <td id=\"T_f55c8_row3_col0\" class=\"data row3 col0\" >1200.000</td>\n",
       "      <td id=\"T_f55c8_row3_col1\" class=\"data row3 col1\" >0.002</td>\n",
       "      <td id=\"T_f55c8_row3_col2\" class=\"data row3 col2\" >0.003</td>\n",
       "      <td id=\"T_f55c8_row3_col3\" class=\"data row3 col3\" >0.000</td>\n",
       "      <td id=\"T_f55c8_row3_col4\" class=\"data row3 col4\" >0.001</td>\n",
       "      <td id=\"T_f55c8_row3_col5\" class=\"data row3 col5\" >0.001</td>\n",
       "      <td id=\"T_f55c8_row3_col6\" class=\"data row3 col6\" >0.002</td>\n",
       "      <td id=\"T_f55c8_row3_col7\" class=\"data row3 col7\" >0.023</td>\n",
       "    </tr>\n",
       "    <tr>\n",
       "      <th id=\"T_f55c8_level0_row4\" class=\"row_heading level0 row4\" >UK</th>\n",
       "      <td id=\"T_f55c8_row4_col0\" class=\"data row4 col0\" >1200.000</td>\n",
       "      <td id=\"T_f55c8_row4_col1\" class=\"data row4 col1\" >0.002</td>\n",
       "      <td id=\"T_f55c8_row4_col2\" class=\"data row4 col2\" >0.002</td>\n",
       "      <td id=\"T_f55c8_row4_col3\" class=\"data row4 col3\" >0.000</td>\n",
       "      <td id=\"T_f55c8_row4_col4\" class=\"data row4 col4\" >0.001</td>\n",
       "      <td id=\"T_f55c8_row4_col5\" class=\"data row4 col5\" >0.001</td>\n",
       "      <td id=\"T_f55c8_row4_col6\" class=\"data row4 col6\" >0.002</td>\n",
       "      <td id=\"T_f55c8_row4_col7\" class=\"data row4 col7\" >0.010</td>\n",
       "    </tr>\n",
       "  </tbody>\n",
       "</table>\n"
      ],
      "text/plain": [
       "<pandas.io.formats.style.Styler at 0x263556859d0>"
      ]
     },
     "execution_count": 9,
     "metadata": {},
     "output_type": "execute_result"
    }
   ],
   "source": [
    "cars.groupby(['ma'])['s'].describe().rename(index=lbl_vals['market']).style.format('{:.3f}')"
   ]
  },
  {
   "cell_type": "markdown",
   "metadata": {},
   "source": [
    "## 1. Using canned software"
   ]
  },
  {
   "cell_type": "code",
   "execution_count": 10,
   "metadata": {},
   "outputs": [],
   "source": [
    "from linearmodels.iv import IV2SLS"
   ]
  },
  {
   "cell_type": "code",
   "execution_count": 11,
   "metadata": {},
   "outputs": [],
   "source": [
    "cars['delta'] = np.log(cars['s'] / cars['s0'])"
   ]
  },
  {
   "cell_type": "code",
   "execution_count": 12,
   "metadata": {},
   "outputs": [],
   "source": [
    "cars[\"brand\"].replace('alfa romeo', 'alfa_romeo', inplace=True)\n",
    "cars[\"brand\"] = cars[\"brand\"].str.replace('/', '', regex=False)"
   ]
  },
  {
   "cell_type": "code",
   "execution_count": 13,
   "metadata": {},
   "outputs": [],
   "source": [
    "categorical_var = 'brand' # name of categorical variable\n",
    "dummies = pd.get_dummies(cars[categorical_var]) # creates a matrix of dummies for each value of dummyvar\n",
    "x_vars_dummies = list(dummies.columns[1:].values) # omit a reference category, here it is the first (hence columns[1:])\n",
    "\n",
    "# add dummies to the dataframe \n",
    "assert dummies.columns[0] not in cars.columns, f'It looks like you have already added this dummy to the dataframe. Avoid duplicates! '\n",
    "cars = pd.concat([cars,dummies], axis=1)"
   ]
  },
  {
   "cell_type": "code",
   "execution_count": 23,
   "metadata": {},
   "outputs": [
    {
     "name": "stdout",
     "output_type": "stream",
     "text": [
      "['logp', 'home', 'cy', 'hp', 'we', 'li', 'sp', 'ac', 'MCC', 'VW', 'alfa_romeo', 'audi', 'citroen', 'daewoo', 'daf', 'fiat', 'ford', 'honda', 'hyundai', 'innocenti', 'lancia', 'mazda', 'mercedes', 'mitsubishi', 'nissan', 'opel', 'peugeot', 'renault', 'rover', 'saab', 'seat', 'skoda', 'suzuki', 'talbot', 'talhillman', 'talmatra', 'talsimca', 'talsunb', 'toyota', 'volvo']\n"
     ]
    }
   ],
   "source": [
    "# choose your preferred variables \n",
    "x_vars = ['logp', 'home', 'cy', 'hp', 'we', 'li', 'sp', 'ac'] + x_vars_dummies # <--- !!! CHOOSE HERE \n",
    "print(x_vars)"
   ]
  },
  {
   "cell_type": "code",
   "execution_count": 24,
   "metadata": {},
   "outputs": [
    {
     "name": "stdout",
     "output_type": "stream",
     "text": [
      "delta ~ 1 + logp + home + cy + hp + we + li + sp + ac + MCC + VW + alfa_romeo + audi + citroen + daewoo + daf + fiat + ford + honda + hyundai + innocenti + lancia + mazda + mercedes + mitsubishi + nissan + opel + peugeot + renault + rover + saab + seat + skoda + suzuki + talbot + talhillman + talmatra + talsimca + talsunb + toyota + volvo\n"
     ]
    },
    {
     "name": "stderr",
     "output_type": "stream",
     "text": [
      "c:\\Users\\PSand\\anaconda3\\lib\\site-packages\\linearmodels\\iv\\model.py:557: MissingValueWarning: \n",
      "Inputs contain missing values. Dropping rows with missing observations.\n",
      "  super().__init__(\n"
     ]
    },
    {
     "ename": "ValueError",
     "evalue": "regressors [exog endog] do not have full column rank",
     "output_type": "error",
     "traceback": [
      "\u001b[1;31m---------------------------------------------------------------------------\u001b[0m",
      "\u001b[1;31mValueError\u001b[0m                                Traceback (most recent call last)",
      "\u001b[1;32m~\\AppData\\Local\\Temp\\ipykernel_15464\\2249207085.py\u001b[0m in \u001b[0;36m<module>\u001b[1;34m\u001b[0m\n\u001b[0;32m      3\u001b[0m     \u001b[0mformula\u001b[0m \u001b[1;33m+=\u001b[0m \u001b[1;34m' + '\u001b[0m \u001b[1;33m+\u001b[0m \u001b[0mx_\u001b[0m\u001b[1;33m\u001b[0m\u001b[1;33m\u001b[0m\u001b[0m\n\u001b[0;32m      4\u001b[0m \u001b[0mprint\u001b[0m\u001b[1;33m(\u001b[0m\u001b[0mformula\u001b[0m\u001b[1;33m)\u001b[0m\u001b[1;33m\u001b[0m\u001b[1;33m\u001b[0m\u001b[0m\n\u001b[1;32m----> 5\u001b[1;33m \u001b[0mmodel\u001b[0m \u001b[1;33m=\u001b[0m \u001b[0mIV2SLS\u001b[0m\u001b[1;33m.\u001b[0m\u001b[0mfrom_formula\u001b[0m\u001b[1;33m(\u001b[0m\u001b[0mformula\u001b[0m\u001b[1;33m,\u001b[0m \u001b[0mcars\u001b[0m\u001b[1;33m)\u001b[0m\u001b[1;33m.\u001b[0m\u001b[0mfit\u001b[0m\u001b[1;33m(\u001b[0m\u001b[1;33m)\u001b[0m\u001b[1;33m\u001b[0m\u001b[1;33m\u001b[0m\u001b[0m\n\u001b[0m",
      "\u001b[1;32mc:\\Users\\PSand\\anaconda3\\lib\\site-packages\\linearmodels\\iv\\model.py\u001b[0m in \u001b[0;36mfrom_formula\u001b[1;34m(formula, data, weights)\u001b[0m\n\u001b[0;32m    941\u001b[0m         \u001b[0mparser\u001b[0m \u001b[1;33m=\u001b[0m \u001b[0mIVFormulaParser\u001b[0m\u001b[1;33m(\u001b[0m\u001b[0mformula\u001b[0m\u001b[1;33m,\u001b[0m \u001b[0mdata\u001b[0m\u001b[1;33m)\u001b[0m\u001b[1;33m\u001b[0m\u001b[1;33m\u001b[0m\u001b[0m\n\u001b[0;32m    942\u001b[0m         \u001b[0mdep\u001b[0m\u001b[1;33m,\u001b[0m \u001b[0mexog\u001b[0m\u001b[1;33m,\u001b[0m \u001b[0mendog\u001b[0m\u001b[1;33m,\u001b[0m \u001b[0minstr\u001b[0m \u001b[1;33m=\u001b[0m \u001b[0mparser\u001b[0m\u001b[1;33m.\u001b[0m\u001b[0mdata\u001b[0m\u001b[1;33m\u001b[0m\u001b[1;33m\u001b[0m\u001b[0m\n\u001b[1;32m--> 943\u001b[1;33m         \u001b[0mmod\u001b[0m \u001b[1;33m=\u001b[0m \u001b[0mIV2SLS\u001b[0m\u001b[1;33m(\u001b[0m\u001b[0mdep\u001b[0m\u001b[1;33m,\u001b[0m \u001b[0mexog\u001b[0m\u001b[1;33m,\u001b[0m \u001b[0mendog\u001b[0m\u001b[1;33m,\u001b[0m \u001b[0minstr\u001b[0m\u001b[1;33m,\u001b[0m \u001b[0mweights\u001b[0m\u001b[1;33m=\u001b[0m\u001b[0mweights\u001b[0m\u001b[1;33m)\u001b[0m\u001b[1;33m\u001b[0m\u001b[1;33m\u001b[0m\u001b[0m\n\u001b[0m\u001b[0;32m    944\u001b[0m         \u001b[0mmod\u001b[0m\u001b[1;33m.\u001b[0m\u001b[0mformula\u001b[0m \u001b[1;33m=\u001b[0m \u001b[0mformula\u001b[0m\u001b[1;33m\u001b[0m\u001b[1;33m\u001b[0m\u001b[0m\n\u001b[0;32m    945\u001b[0m         \u001b[1;32mreturn\u001b[0m \u001b[0mmod\u001b[0m\u001b[1;33m\u001b[0m\u001b[1;33m\u001b[0m\u001b[0m\n",
      "\u001b[1;32mc:\\Users\\PSand\\anaconda3\\lib\\site-packages\\linearmodels\\iv\\model.py\u001b[0m in \u001b[0;36m__init__\u001b[1;34m(self, dependent, exog, endog, instruments, weights)\u001b[0m\n\u001b[0;32m    894\u001b[0m     ):\n\u001b[0;32m    895\u001b[0m         \u001b[0mself\u001b[0m\u001b[1;33m.\u001b[0m\u001b[0m_method\u001b[0m \u001b[1;33m=\u001b[0m \u001b[1;34m\"IV-2SLS\"\u001b[0m\u001b[1;33m\u001b[0m\u001b[1;33m\u001b[0m\u001b[0m\n\u001b[1;32m--> 896\u001b[1;33m         super().__init__(\n\u001b[0m\u001b[0;32m    897\u001b[0m             \u001b[0mdependent\u001b[0m\u001b[1;33m,\u001b[0m \u001b[0mexog\u001b[0m\u001b[1;33m,\u001b[0m \u001b[0mendog\u001b[0m\u001b[1;33m,\u001b[0m \u001b[0minstruments\u001b[0m\u001b[1;33m,\u001b[0m \u001b[0mweights\u001b[0m\u001b[1;33m=\u001b[0m\u001b[0mweights\u001b[0m\u001b[1;33m,\u001b[0m \u001b[0mfuller\u001b[0m\u001b[1;33m=\u001b[0m\u001b[1;36m0\u001b[0m\u001b[1;33m,\u001b[0m \u001b[0mkappa\u001b[0m\u001b[1;33m=\u001b[0m\u001b[1;36m1\u001b[0m\u001b[1;33m\u001b[0m\u001b[1;33m\u001b[0m\u001b[0m\n\u001b[0;32m    898\u001b[0m         )\n",
      "\u001b[1;32mc:\\Users\\PSand\\anaconda3\\lib\\site-packages\\linearmodels\\iv\\model.py\u001b[0m in \u001b[0;36m__init__\u001b[1;34m(self, dependent, exog, endog, instruments, weights, fuller, kappa)\u001b[0m\n\u001b[0;32m    555\u001b[0m         \u001b[0mkappa\u001b[0m\u001b[1;33m:\u001b[0m \u001b[0mlinearmodels\u001b[0m\u001b[1;33m.\u001b[0m\u001b[0mtyping\u001b[0m\u001b[1;33m.\u001b[0m\u001b[0mOptionalNumeric\u001b[0m \u001b[1;33m=\u001b[0m \u001b[1;32mNone\u001b[0m\u001b[1;33m,\u001b[0m\u001b[1;33m\u001b[0m\u001b[1;33m\u001b[0m\u001b[0m\n\u001b[0;32m    556\u001b[0m     ):\n\u001b[1;32m--> 557\u001b[1;33m         super().__init__(\n\u001b[0m\u001b[0;32m    558\u001b[0m             \u001b[0mdependent\u001b[0m\u001b[1;33m,\u001b[0m\u001b[1;33m\u001b[0m\u001b[1;33m\u001b[0m\u001b[0m\n\u001b[0;32m    559\u001b[0m             \u001b[0mexog\u001b[0m\u001b[1;33m,\u001b[0m\u001b[1;33m\u001b[0m\u001b[1;33m\u001b[0m\u001b[0m\n",
      "\u001b[1;32mc:\\Users\\PSand\\anaconda3\\lib\\site-packages\\linearmodels\\iv\\model.py\u001b[0m in \u001b[0;36m__init__\u001b[1;34m(self, dependent, exog, endog, instruments, weights, fuller, kappa)\u001b[0m\n\u001b[0;32m    205\u001b[0m         \u001b[0mself\u001b[0m\u001b[1;33m.\u001b[0m\u001b[0m_index\u001b[0m \u001b[1;33m=\u001b[0m \u001b[0mself\u001b[0m\u001b[1;33m.\u001b[0m\u001b[0mdependent\u001b[0m\u001b[1;33m.\u001b[0m\u001b[0mrows\u001b[0m\u001b[1;33m\u001b[0m\u001b[1;33m\u001b[0m\u001b[0m\n\u001b[0;32m    206\u001b[0m \u001b[1;33m\u001b[0m\u001b[0m\n\u001b[1;32m--> 207\u001b[1;33m         \u001b[0mself\u001b[0m\u001b[1;33m.\u001b[0m\u001b[0m_validate_inputs\u001b[0m\u001b[1;33m(\u001b[0m\u001b[1;33m)\u001b[0m\u001b[1;33m\u001b[0m\u001b[1;33m\u001b[0m\u001b[0m\n\u001b[0m\u001b[0;32m    208\u001b[0m         \u001b[1;32mif\u001b[0m \u001b[1;32mnot\u001b[0m \u001b[0mhasattr\u001b[0m\u001b[1;33m(\u001b[0m\u001b[0mself\u001b[0m\u001b[1;33m,\u001b[0m \u001b[1;34m\"_method\"\u001b[0m\u001b[1;33m)\u001b[0m\u001b[1;33m:\u001b[0m\u001b[1;33m\u001b[0m\u001b[1;33m\u001b[0m\u001b[0m\n\u001b[0;32m    209\u001b[0m             \u001b[0mself\u001b[0m\u001b[1;33m.\u001b[0m\u001b[0m_method\u001b[0m \u001b[1;33m=\u001b[0m \u001b[1;34m\"IV-LIML\"\u001b[0m\u001b[1;33m\u001b[0m\u001b[1;33m\u001b[0m\u001b[0m\n",
      "\u001b[1;32mc:\\Users\\PSand\\anaconda3\\lib\\site-packages\\linearmodels\\iv\\model.py\u001b[0m in \u001b[0;36m_validate_inputs\u001b[1;34m(self)\u001b[0m\n\u001b[0;32m    339\u001b[0m             )\n\u001b[0;32m    340\u001b[0m         \u001b[1;32mif\u001b[0m \u001b[0mmatrix_rank\u001b[0m\u001b[1;33m(\u001b[0m\u001b[0mx\u001b[0m\u001b[1;33m)\u001b[0m \u001b[1;33m<\u001b[0m \u001b[0mx\u001b[0m\u001b[1;33m.\u001b[0m\u001b[0mshape\u001b[0m\u001b[1;33m[\u001b[0m\u001b[1;36m1\u001b[0m\u001b[1;33m]\u001b[0m\u001b[1;33m:\u001b[0m\u001b[1;33m\u001b[0m\u001b[1;33m\u001b[0m\u001b[0m\n\u001b[1;32m--> 341\u001b[1;33m             \u001b[1;32mraise\u001b[0m \u001b[0mValueError\u001b[0m\u001b[1;33m(\u001b[0m\u001b[1;34m\"regressors [exog endog] do not have full \"\u001b[0m \u001b[1;34m\"column rank\"\u001b[0m\u001b[1;33m)\u001b[0m\u001b[1;33m\u001b[0m\u001b[1;33m\u001b[0m\u001b[0m\n\u001b[0m\u001b[0;32m    342\u001b[0m         \u001b[1;32mif\u001b[0m \u001b[0mmatrix_rank\u001b[0m\u001b[1;33m(\u001b[0m\u001b[0mz\u001b[0m\u001b[1;33m)\u001b[0m \u001b[1;33m<\u001b[0m \u001b[0mz\u001b[0m\u001b[1;33m.\u001b[0m\u001b[0mshape\u001b[0m\u001b[1;33m[\u001b[0m\u001b[1;36m1\u001b[0m\u001b[1;33m]\u001b[0m\u001b[1;33m:\u001b[0m\u001b[1;33m\u001b[0m\u001b[1;33m\u001b[0m\u001b[0m\n\u001b[0;32m    343\u001b[0m             raise ValueError(\n",
      "\u001b[1;31mValueError\u001b[0m: regressors [exog endog] do not have full column rank"
     ]
    }
   ],
   "source": [
    "formula = 'delta ~ 1'\n",
    "for x_ in x_vars:\n",
    "    formula += ' + ' + x_\n",
    "print(formula)\n",
    "model = IV2SLS.from_formula(formula, cars).fit()"
   ]
  },
  {
   "cell_type": "code",
   "execution_count": 18,
   "metadata": {},
   "outputs": [
    {
     "data": {
      "text/html": [
       "<table class=\"simpletable\">\n",
       "<caption>OLS Estimation Summary</caption>\n",
       "<tr>\n",
       "  <th>Dep. Variable:</th>          <td>delta</td>      <th>  R-squared:         </th> <td>0.3444</td> \n",
       "</tr>\n",
       "<tr>\n",
       "  <th>Estimator:</th>               <td>OLS</td>       <th>  Adj. R-squared:    </th> <td>0.3434</td> \n",
       "</tr>\n",
       "<tr>\n",
       "  <th>No. Observations:</th>       <td>5012</td>       <th>  F-statistic:       </th> <td>2621.5</td> \n",
       "</tr>\n",
       "<tr>\n",
       "  <th>Date:</th>             <td>Wed, Oct 16 2024</td> <th>  P-value (F-stat)   </th> <td>0.0000</td> \n",
       "</tr>\n",
       "<tr>\n",
       "  <th>Time:</th>                 <td>15:34:38</td>     <th>  Distribution:      </th> <td>chi2(8)</td>\n",
       "</tr>\n",
       "<tr>\n",
       "  <th>Cov. Estimator:</th>        <td>robust</td>      <th>                     </th>    <td></td>    \n",
       "</tr>\n",
       "<tr>\n",
       "  <th></th>                          <td></td>         <th>                     </th>    <td></td>    \n",
       "</tr>\n",
       "</table>\n",
       "<table class=\"simpletable\">\n",
       "<caption>Parameter Estimates</caption>\n",
       "<tr>\n",
       "      <td></td>      <th>Parameter</th> <th>Std. Err.</th> <th>T-stat</th>  <th>P-value</th>  <th>Lower CI</th>  <th>Upper CI</th>\n",
       "</tr>\n",
       "<tr>\n",
       "  <th>Intercept</th>  <td>-10.913</td>   <td>0.3505</td>   <td>-31.132</td> <td>0.0000</td>    <td>-11.600</td>   <td>-10.226</td>\n",
       "</tr>\n",
       "<tr>\n",
       "  <th>logp</th>       <td>0.2626</td>    <td>0.0403</td>   <td>6.5098</td>  <td>0.0000</td>    <td>0.1836</td>    <td>0.3417</td> \n",
       "</tr>\n",
       "<tr>\n",
       "  <th>home</th>       <td>0.9578</td>    <td>0.0235</td>   <td>40.722</td>  <td>0.0000</td>    <td>0.9117</td>    <td>1.0039</td> \n",
       "</tr>\n",
       "<tr>\n",
       "  <th>cy</th>         <td>0.0001</td>   <td>7.617e-05</td> <td>1.6230</td>  <td>0.1046</td>  <td>-2.566e-05</td>  <td>0.0003</td> \n",
       "</tr>\n",
       "<tr>\n",
       "  <th>hp</th>         <td>-0.0411</td>   <td>0.0021</td>   <td>-19.689</td> <td>0.0000</td>    <td>-0.0452</td>   <td>-0.0370</td>\n",
       "</tr>\n",
       "<tr>\n",
       "  <th>we</th>         <td>0.0005</td>    <td>0.0002</td>   <td>3.4049</td>  <td>0.0007</td>    <td>0.0002</td>    <td>0.0008</td> \n",
       "</tr>\n",
       "<tr>\n",
       "  <th>li</th>         <td>-0.0110</td>   <td>0.0140</td>   <td>-0.7848</td> <td>0.4326</td>    <td>-0.0385</td>   <td>0.0165</td> \n",
       "</tr>\n",
       "<tr>\n",
       "  <th>sp</th>         <td>0.0204</td>    <td>0.0021</td>   <td>9.5752</td>  <td>0.0000</td>    <td>0.0162</td>    <td>0.0245</td> \n",
       "</tr>\n",
       "<tr>\n",
       "  <th>ac</th>         <td>0.0143</td>    <td>0.0043</td>   <td>3.3567</td>  <td>0.0008</td>    <td>0.0060</td>    <td>0.0227</td> \n",
       "</tr>\n",
       "</table>"
      ],
      "text/plain": [
       "<class 'linearmodels.compat.statsmodels.Summary'>\n",
       "\"\"\"\n",
       "                            OLS Estimation Summary                            \n",
       "==============================================================================\n",
       "Dep. Variable:                  delta   R-squared:                      0.3444\n",
       "Estimator:                        OLS   Adj. R-squared:                 0.3434\n",
       "No. Observations:                5012   F-statistic:                    2621.5\n",
       "Date:                Wed, Oct 16 2024   P-value (F-stat)                0.0000\n",
       "Time:                        15:34:38   Distribution:                  chi2(8)\n",
       "Cov. Estimator:                robust                                         \n",
       "                                                                              \n",
       "                             Parameter Estimates                              \n",
       "==============================================================================\n",
       "            Parameter  Std. Err.     T-stat    P-value    Lower CI    Upper CI\n",
       "------------------------------------------------------------------------------\n",
       "Intercept     -10.913     0.3505    -31.132     0.0000     -11.600     -10.226\n",
       "logp           0.2626     0.0403     6.5098     0.0000      0.1836      0.3417\n",
       "home           0.9578     0.0235     40.722     0.0000      0.9117      1.0039\n",
       "cy             0.0001  7.617e-05     1.6230     0.1046  -2.566e-05      0.0003\n",
       "hp            -0.0411     0.0021    -19.689     0.0000     -0.0452     -0.0370\n",
       "we             0.0005     0.0002     3.4049     0.0007      0.0002      0.0008\n",
       "li            -0.0110     0.0140    -0.7848     0.4326     -0.0385      0.0165\n",
       "sp             0.0204     0.0021     9.5752     0.0000      0.0162      0.0245\n",
       "ac             0.0143     0.0043     3.3567     0.0008      0.0060      0.0227\n",
       "==============================================================================\n",
       "\"\"\""
      ]
     },
     "execution_count": 18,
     "metadata": {},
     "output_type": "execute_result"
    }
   ],
   "source": [
    "model.summary"
   ]
  },
  {
   "cell_type": "markdown",
   "metadata": {},
   "source": [
    "## 2. Using numpy\n",
    "\n",
    "***WARNING:*** The code below works *only* with a *balanced* dataset (i.e. with the same number of products, $J$ for each market (`(ma,ye)` pair.))"
   ]
  },
  {
   "cell_type": "markdown",
   "metadata": {},
   "source": [
    "### Dummy variables\n",
    "\n",
    "It can be very important to control for some fixed effects. To do this with matrices, you will have to create dummy variables with one column for each possible value (except one for the reference category). \n"
   ]
  },
  {
   "cell_type": "markdown",
   "metadata": {},
   "source": [
    "### `x_vars`: List of regressors to be used "
   ]
  },
  {
   "cell_type": "code",
   "execution_count": 16,
   "metadata": {},
   "outputs": [],
   "source": [
    "K = len(x_vars)\n",
    "N = cars.ma.nunique() * cars.ye.nunique()\n",
    "J = 40 \n",
    "x = cars[x_vars].values.reshape((N,J,K)).astype(float)\n",
    "cars['outcome'] = cars['s'] / cars['s0']\n",
    "y = np.log(cars['outcome'].values.reshape((N,J)))\n",
    "\n",
    "# standardize x\n",
    "x = ((x - x.mean(0).mean(0))/(x.std(0).std(0)))"
   ]
  },
  {
   "cell_type": "markdown",
   "metadata": {},
   "source": [
    "# OLS Example\n",
    "\n",
    "Let's compute the OLS estimator just to test that we can do algebra with the arrays. \n",
    "\n",
    "***Note:*** This particular choice of $y$ and $x$ variables might not make sense, it is just to help you get started doing algebra on these arrays. "
   ]
  },
  {
   "cell_type": "code",
   "execution_count": 17,
   "metadata": {},
   "outputs": [],
   "source": [
    "Y = y.reshape(N*J,) # Make Y 1-dimensional \n",
    "X = np.hstack([x.reshape(N*J,K), np.ones((N*J,1))]) # append a constant term "
   ]
  },
  {
   "cell_type": "code",
   "execution_count": null,
   "metadata": {},
   "outputs": [],
   "source": [
    "# compute the OLS estimator \n",
    "bet = np.linalg.inv(X.T @ X) @ X.T @ Y\n",
    "\n",
    "# print\n",
    "varnames = x_vars + ['const'] # we added the constant as the K+1'th column \n",
    "pd.DataFrame({'Estimate':bet}, index=varnames)"
   ]
  },
  {
   "cell_type": "markdown",
   "metadata": {},
   "source": [
    "# Towards non-linear estimation\n",
    "\n",
    "In order to work with the logit model, you have to be able to compute the utility indices, which typically take the form of some inner product of an $x$-vector and a $\\theta$ vector. This is illustrated for you below. Since `x` is `(N,J,K)` (i.e. `x[i,j,:]` gives the $K$-vector of regressors for the car `j` in market-period `i`), we just have to form the matrix product `x @ theta`, and Python will do the sum over the 3rd dimension of `x`. "
   ]
  },
  {
   "cell_type": "code",
   "execution_count": null,
   "metadata": {},
   "outputs": [],
   "source": [
    "theta0 = np.zeros((K,))\n",
    "v = x @ theta0 # how to multiply a trial value with the matrix of regressors \n",
    "np.exp(v) / np.sum(np.exp(v), 1, keepdims=True) # choice probabilities "
   ]
  }
 ],
 "metadata": {
  "kernelspec": {
   "display_name": "base",
   "language": "python",
   "name": "python3"
  },
  "language_info": {
   "codemirror_mode": {
    "name": "ipython",
    "version": 3
   },
   "file_extension": ".py",
   "mimetype": "text/x-python",
   "name": "python",
   "nbconvert_exporter": "python",
   "pygments_lexer": "ipython3",
   "version": "3.9.16"
  }
 },
 "nbformat": 4,
 "nbformat_minor": 4
}
